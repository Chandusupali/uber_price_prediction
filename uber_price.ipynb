{
 "cells": [
  {
   "cell_type": "code",
   "execution_count": 9,
   "id": "96571bd4",
   "metadata": {},
   "outputs": [],
   "source": [
    "import pandas as pd\n",
    "import xgboost as xgb\n",
    "from sklearn.model_selection import train_test_split\n",
    "from sklearn.metrics import mean_squared_error, r2_score\n",
    "from sklearn.preprocessing import StandardScaler\n",
    "import numpy as np\n",
    "\n",
    "\n"
   ]
  },
  {
   "cell_type": "code",
   "execution_count": 10,
   "id": "7d104fa2",
   "metadata": {},
   "outputs": [],
   "source": [
    "# Load the dataset\n",
    "df = pd.read_csv(\"uber_price_dataset.csv\")\n"
   ]
  },
  {
   "cell_type": "code",
   "execution_count": 11,
   "id": "21b7e0c1",
   "metadata": {},
   "outputs": [],
   "source": [
    "\n",
    "# Features and target\n",
    "X = df.drop(\"Predicted_Price\", axis=1)\n",
    "y = df[\"Predicted_Price\"]\n",
    "\n",
    "# Scale features\n",
    "scaler = StandardScaler()\n",
    "X_scaled = scaler.fit_transform(X)\n",
    "\n",
    "# Train/test split\n",
    "X_train, X_test, y_train, y_test = train_test_split(X_scaled, y, test_size=0.2, random_state=42)\n",
    "\n"
   ]
  },
  {
   "cell_type": "code",
   "execution_count": 12,
   "id": "b3b0b9bd",
   "metadata": {},
   "outputs": [
    {
     "data": {
      "text/plain": [
       "XGBRegressor(base_score=0.5, booster=None, colsample_bylevel=1,\n",
       "             colsample_bynode=1, colsample_bytree=1, gamma=0, gpu_id=-1,\n",
       "             importance_type='gain', interaction_constraints=None,\n",
       "             learning_rate=0.300000012, max_delta_step=0, max_depth=6,\n",
       "             min_child_weight=1, missing=nan, monotone_constraints=None,\n",
       "             n_estimators=100, n_jobs=0, num_parallel_tree=1, random_state=0,\n",
       "             reg_alpha=0, reg_lambda=1, scale_pos_weight=1, subsample=1,\n",
       "             tree_method=None, validate_parameters=False, verbosity=None)"
      ]
     },
     "execution_count": 12,
     "metadata": {},
     "output_type": "execute_result"
    }
   ],
   "source": [
    "# XGBoost Regressor\n",
    "model = xgb.XGBRegressor()\n",
    "model.fit(X_train, y_train)\n",
    "\n"
   ]
  },
  {
   "cell_type": "code",
   "execution_count": 13,
   "id": "a6d081f2",
   "metadata": {},
   "outputs": [
    {
     "name": "stdout",
     "output_type": "stream",
     "text": [
      "R² Score: 0.9834551243643261\n",
      "RMSE: 5.071200535377194\n"
     ]
    }
   ],
   "source": [
    "# Predict on test data\n",
    "y_pred = model.predict(X_test)\n",
    "\n",
    "# Evaluate\n",
    "print(\"R² Score:\", r2_score(y_test, y_pred))\n",
    "print(\"RMSE:\", np.sqrt(mean_squared_error(y_test, y_pred)))\n",
    "\n"
   ]
  },
  {
   "cell_type": "code",
   "execution_count": 14,
   "id": "83cd2b94",
   "metadata": {},
   "outputs": [
    {
     "name": "stdout",
     "output_type": "stream",
     "text": [
      "\n",
      "--- Predict Uber Price ---\n",
      "Enter number of cars available: 2\n",
      "Enter distance to travel (km): 2\n",
      "Enter traffic value (1 to 10): 3\n",
      "\n",
      " Predicted Uber Price: ₹38.95\n"
     ]
    }
   ],
   "source": [
    "# ==== Predict using user input ====\n",
    "def predict_price():\n",
    "    print(\"\\n--- Predict Uber Price ---\")\n",
    "    num_cars = float(input(\"Enter number of cars available: \"))\n",
    "    distance = float(input(\"Enter distance to travel (km): \"))\n",
    "    traffic = float(input(\"Enter traffic value (1 to 10): \"))\n",
    "\n",
    "    # Format user input\n",
    "    user_data = pd.DataFrame([[num_cars, distance, traffic]],\n",
    "                             columns=[\"Num_Cars_Available\", \"Distance_to_Travel\", \"Traffic_Value\"])\n",
    "\n",
    "    # Scale user input\n",
    "    user_scaled = scaler.transform(user_data)\n",
    "\n",
    "    # Predict price\n",
    "    price = model.predict(user_scaled)[0]\n",
    "    print(f\"\\n Predicted Uber Price: ₹{price:.2f}\")\n",
    "\n",
    "# Call prediction\n",
    "predict_price()"
   ]
  },
  {
   "cell_type": "code",
   "execution_count": null,
   "id": "014ef6a0",
   "metadata": {},
   "outputs": [],
   "source": []
  }
 ],
 "metadata": {
  "kernelspec": {
   "display_name": "Python 3 (ipykernel)",
   "language": "python",
   "name": "python3"
  },
  "language_info": {
   "codemirror_mode": {
    "name": "ipython",
    "version": 3
   },
   "file_extension": ".py",
   "mimetype": "text/x-python",
   "name": "python",
   "nbconvert_exporter": "python",
   "pygments_lexer": "ipython3",
   "version": "3.7.2"
  }
 },
 "nbformat": 4,
 "nbformat_minor": 5
}
